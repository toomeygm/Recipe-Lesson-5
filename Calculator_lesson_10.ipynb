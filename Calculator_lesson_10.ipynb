{
  "nbformat": 4,
  "nbformat_minor": 0,
  "metadata": {
    "colab": {
      "provenance": [],
      "collapsed_sections": [],
      "authorship_tag": "ABX9TyNZgHB6stI5UvFcLweAHCBN",
      "include_colab_link": true
    },
    "kernelspec": {
      "name": "python3",
      "display_name": "Python 3"
    },
    "language_info": {
      "name": "python"
    }
  },
  "cells": [
    {
      "cell_type": "markdown",
      "metadata": {
        "id": "view-in-github",
        "colab_type": "text"
      },
      "source": [
        "<a href=\"https://colab.research.google.com/github/toomeygm/Recipe-Lesson-5/blob/main/Calculator_lesson_10.ipynb\" target=\"_parent\"><img src=\"https://colab.research.google.com/assets/colab-badge.svg\" alt=\"Open In Colab\"/></a>"
      ]
    },
    {
      "cell_type": "code",
      "execution_count": null,
      "metadata": {
        "colab": {
          "base_uri": "https://localhost:8080/"
        },
        "id": "hjI7ZFRJh-Xz",
        "outputId": "ce7e713d-136d-43fe-e37a-4f6d955745b7"
      },
      "outputs": [
        {
          "output_type": "stream",
          "name": "stdout",
          "text": [
            "15\n"
          ]
        }
      ],
      "source": [
        "var1 = 7\n",
        "var2 = 5\n",
        "print (var1 + var2)"
      ]
    },
    {
      "cell_type": "code",
      "source": [
        " var3 = input(\"Enter a floating point number\")\n",
        "var4 = input(\"Enter another floating point number\")\n",
        "var5 = (float(var3) + float(var4))\n",
        "print (var5)"
      ],
      "metadata": {
        "id": "RsLX7fwppG85",
        "colab": {
          "base_uri": "https://localhost:8080/"
        },
        "outputId": "eae0cae5-20aa-4690-f7c5-0a0e00e4d3e6"
      },
      "execution_count": 3,
      "outputs": [
        {
          "output_type": "stream",
          "name": "stdout",
          "text": [
            "Enter a floating point number2.5\n",
            "Enter another floating point number3.4\n",
            "5.9\n"
          ]
        }
      ]
    },
    {
      "cell_type": "code",
      "source": [
        "mylist = [3,4,5]\n",
        "mystring = \"tuv\"\n",
        "\n",
        "1 in mylist\n",
        "\"u\" in mystring"
      ],
      "metadata": {
        "colab": {
          "base_uri": "https://localhost:8080/"
        },
        "id": "XMkcq7gauNrI",
        "outputId": "415c3d90-f044-46bb-a67f-15577f79136a"
      },
      "execution_count": 15,
      "outputs": [
        {
          "output_type": "execute_result",
          "data": {
            "text/plain": [
              "True"
            ]
          },
          "metadata": {},
          "execution_count": 15
        }
      ]
    },
    {
      "cell_type": "code",
      "source": [],
      "metadata": {
        "id": "2vjtV0wxy9Zq"
      },
      "execution_count": null,
      "outputs": []
    }
  ]
}